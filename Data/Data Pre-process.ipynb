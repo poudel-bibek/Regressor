{
 "cells": [
  {
   "cell_type": "markdown",
   "id": "34cda654",
   "metadata": {},
   "source": [
    "## Data Pre-processing : Elliminating possible sources of error from data\n",
    "\n",
    "### Facts\n",
    "1. data is already separated into train and val\n",
    "2. Data is verified at the filename level before storing \n",
    "3. There are some errenous files (For eg. 161244.jpg,143441.jpg in trainWaymo folder = 0 bytes)\n",
    "4. Label and target mean the same thing here\n",
    "5. Although numbers in image names go to a higher value, the number of images may be less\n",
    "\n",
    "### Sources of errors that are nullified: \n",
    "1. Images with no labels\n",
    "2. Curropt images (un-openable or 0 bytes) \n",
    "3. More labels than corresponding images and vice versa\n",
    "4. Errenous sequence/ order of labels\n",
    "\n",
    "__Clean Data is saved as npz files in the end__"
   ]
  },
  {
   "cell_type": "code",
   "execution_count": 1,
   "id": "a3cf5098",
   "metadata": {
    "scrolled": false
   },
   "outputs": [],
   "source": [
    "import glob\n",
    "import random\n",
    "import numpy as np\n",
    "import pandas as pd\n",
    "\n",
    "import PIL\n",
    "from PIL import Image"
   ]
  },
  {
   "cell_type": "code",
   "execution_count": 2,
   "id": "914e3b2b",
   "metadata": {
    "scrolled": false
   },
   "outputs": [],
   "source": [
    "SEED = 42\n",
    "random.seed(SEED)\n",
    "np.random.seed(SEED)"
   ]
  },
  {
   "cell_type": "code",
   "execution_count": 3,
   "id": "3ce0be52",
   "metadata": {
    "scrolled": false
   },
   "outputs": [],
   "source": [
    "# This may change based on how you position the data directory\n",
    "def name(x):\n",
    "    return(int(x.split('/')[-1].split('.')[0]))\n",
    "\n",
    "directory = \".\""
   ]
  },
  {
   "cell_type": "code",
   "execution_count": 4,
   "id": "4b3a6a8c",
   "metadata": {
    "scrolled": false
   },
   "outputs": [
    {
     "name": "stdout",
     "output_type": "stream",
     "text": [
      "Total Honda file paths to be loaded : 110000\n",
      "./trainHonda100k/0.jpg\n",
      "./trainHonda100k/1.jpg\n",
      "./trainHonda100k/2.jpg\n",
      "./trainHonda100k/3.jpg\n",
      "./trainHonda100k/4.jpg\n",
      "./trainHonda100k/109994.jpg\n",
      "./trainHonda100k/109995.jpg\n",
      "./trainHonda100k/109996.jpg\n",
      "./trainHonda100k/109997.jpg\n",
      "./trainHonda100k/109998.jpg\n"
     ]
    }
   ],
   "source": [
    "train_honda = directory + \"/trainHonda100k/\"\n",
    "val_honda = directory + \"/valHonda100k/\"\n",
    "\n",
    "train_images_honda = sorted(glob.glob(train_honda+\"*.jpg\"), key = name)\n",
    "val_images_honda = sorted(glob.glob(val_honda+\"*.jpg\"), key = name)\n",
    "\n",
    "len_train_honda = len(train_images_honda)\n",
    "len_val_honda = len(val_images_honda)\n",
    "\n",
    "train_images = []\n",
    "val_images = []\n",
    "\n",
    "train_targets =[]\n",
    "val_targets = []\n",
    "\n",
    "print(\"Total Honda file paths to be loaded : {}\".format((len_train_honda  +len_val_honda )))\n",
    "\n",
    "#sample (see they are sorted)\n",
    "for k in train_images_honda[0:5]:print(k, end=\"\\n\")\n",
    "for k in train_images_honda[-5:]:print(k, end=\"\\n\")\n",
    "    \n",
    "problem_file_paths=[]"
   ]
  },
  {
   "cell_type": "code",
   "execution_count": 5,
   "id": "ce0cea4f",
   "metadata": {},
   "outputs": [
    {
     "name": "stdout",
     "output_type": "stream",
     "text": [
      "Total Waymo file paths to be loaded : 141456\n",
      "./valWaymo/0.jpg\n",
      "./valWaymo/1.jpg\n",
      "./valWaymo/2.jpg\n",
      "./valWaymo/3.jpg\n",
      "./valWaymo/4.jpg\n",
      "./valWaymo/33413.jpg\n",
      "./valWaymo/33414.jpg\n",
      "./valWaymo/33415.jpg\n",
      "./valWaymo/33416.jpg\n",
      "./valWaymo/33417.jpg\n"
     ]
    }
   ],
   "source": [
    "train_waymo = directory + \"/trainWaymo/\"\n",
    "val_waymo = directory + \"/valWaymo/\"\n",
    "\n",
    "train_images_waymo = sorted(glob.glob(train_waymo+\"*.jpg\"), key = name)\n",
    "val_images_waymo = sorted(glob.glob(val_waymo+\"*.jpg\"), key = name)\n",
    "\n",
    "len_train_waymo = len(train_images_waymo)\n",
    "len_val_waymo = len(val_images_waymo)\n",
    "\n",
    "print(\"Total Waymo file paths to be loaded : {}\".format((len_train_waymo +len_val_waymo)))\n",
    "\n",
    "for k in val_images_waymo[0:5]:print(k, end=\"\\n\")\n",
    "for k in val_images_waymo[-5:]:print(k, end=\"\\n\")"
   ]
  },
  {
   "cell_type": "code",
   "execution_count": 6,
   "id": "fcacad26",
   "metadata": {
    "scrolled": false
   },
   "outputs": [
    {
     "name": "stdout",
     "output_type": "stream",
     "text": [
      "100000\n"
     ]
    }
   ],
   "source": [
    "# The name of the last image in honda is 10998.jpg but there are only a total of 100000 of them\n",
    "print(len(train_images_honda))"
   ]
  },
  {
   "cell_type": "code",
   "execution_count": 7,
   "id": "af35b02e",
   "metadata": {},
   "outputs": [
    {
     "name": "stdout",
     "output_type": "stream",
     "text": [
      "108038\n"
     ]
    }
   ],
   "source": [
    "#Waymo\n",
    "print(len(train_images_waymo))"
   ]
  },
  {
   "cell_type": "code",
   "execution_count": 8,
   "id": "95c3605d",
   "metadata": {
    "scrolled": true
   },
   "outputs": [
    {
     "name": "stdout",
     "output_type": "stream",
     "text": [
      "\n",
      "--------------------------------\n",
      "Loading Images......\n",
      "Run : 0\n",
      "Run : 1\n",
      "Honda (Train): 100000 loaded, 0 popped\n"
     ]
    }
   ],
   "source": [
    "print(\"\\n--------------------------------\")\n",
    "print(\"Loading Images......\")\n",
    "pop_count_tr_honda=0\n",
    "# Run twice to verify first pop worked correctly (if any)\n",
    "for a in range(2):\n",
    "    pop_tr_honda=[]\n",
    "    im_honda_tr =[]\n",
    "    print(\"Run :\", a)\n",
    "    for i in range(len(train_images_honda)):\n",
    "        try: \n",
    "            path = train_images_honda[i]\n",
    "            im_honda_tr.append(np.asarray(Image.open(path)))\n",
    "\n",
    "        except PIL.UnidentifiedImageError:\n",
    "            pop_tr_honda.append(i)\n",
    "            problem_file_paths.append(path)\n",
    "            print(\"To be popped :\",i)\n",
    "\n",
    "    shift = 0\n",
    "    if pop_tr_honda:\n",
    "        for j in range(len(pop_tr_honda)):\n",
    "            train_images_honda.pop(pop_tr_honda[j] - shift)\n",
    "            shift+=1\n",
    "            pop_count_tr_honda+=1\n",
    "            \n",
    "print(\"Honda (Train): {} loaded, {} popped\".format(len(im_honda_tr), pop_count_tr_honda))"
   ]
  },
  {
   "cell_type": "code",
   "execution_count": 9,
   "id": "9ff0a378",
   "metadata": {
    "scrolled": true
   },
   "outputs": [
    {
     "name": "stdout",
     "output_type": "stream",
     "text": [
      "\n",
      "--------------------------------\n",
      "Loading Images......\n",
      "Run : 0\n",
      "To be popped : 95024\n",
      "To be popped : 106847\n",
      "Run : 1\n",
      "Waymo (Train): 108036 loaded, 2 popped\n"
     ]
    }
   ],
   "source": [
    "print(\"\\n--------------------------------\")\n",
    "print(\"Loading Images......\")\n",
    "pop_count_tr_waymo=0\n",
    "# Run twice to verify first pop worked correctly (if any)\n",
    "for a in range(2):\n",
    "    pop_tr_waymo=[]\n",
    "    im_waymo_tr =[]\n",
    "    print(\"Run :\", a)\n",
    "    for i in range(len(train_images_waymo)):\n",
    "        try: \n",
    "            path = train_images_waymo[i]\n",
    "            im_waymo_tr.append(np.asarray(Image.open(path)))\n",
    "\n",
    "        except PIL.UnidentifiedImageError:\n",
    "            pop_tr_waymo.append(i)\n",
    "            problem_file_paths.append(path)\n",
    "            print(\"To be popped :\",i)\n",
    "\n",
    "    shift = 0\n",
    "    if pop_tr_waymo:\n",
    "        for j in range(len(pop_tr_waymo)):\n",
    "            train_images_waymo.pop(pop_tr_waymo[j] - shift)\n",
    "            shift+=1\n",
    "            pop_count_tr_waymo+=1\n",
    "            \n",
    "print(\"Waymo (Train): {} loaded, {} popped\".format(len(im_waymo_tr), pop_count_tr_waymo))"
   ]
  },
  {
   "cell_type": "code",
   "execution_count": 10,
   "id": "e8958676",
   "metadata": {
    "scrolled": true
   },
   "outputs": [
    {
     "name": "stdout",
     "output_type": "stream",
     "text": [
      "\n",
      "--------------------------------\n",
      "Loading Images......\n",
      "Run : 0\n",
      "Run : 1\n",
      "Honda (Val): 10000 loaded, 0 popped\n"
     ]
    }
   ],
   "source": [
    "print(\"\\n--------------------------------\")\n",
    "print(\"Loading Images......\")\n",
    "pop_count_val_honda =0\n",
    "# Run twice to verify first pop worked correctly (if any)\n",
    "for a in range(2):\n",
    "    pop_val_honda=[]\n",
    "    im_honda_val =[]\n",
    "    print(\"Run :\", a)\n",
    "    for i in range(len(val_images_honda)):\n",
    "        try: \n",
    "            path = val_images_honda[i]\n",
    "            im_honda_val.append(np.asarray(Image.open(path)))\n",
    "\n",
    "        except PIL.UnidentifiedImageError:\n",
    "            pop_val_honda.append(i)\n",
    "            problem_file_paths.append(path)\n",
    "            print(\"To be popped :\",i)\n",
    "\n",
    "    shift = 0\n",
    "    if pop_val_honda:\n",
    "        for j in range(len(pop_val_honda)):\n",
    "            val_images_honda.pop(pop_val_honda[j] - shift)\n",
    "            shift+=1\n",
    "            pop_count_val_honda+=1\n",
    "            \n",
    "print(\"Honda (Val): {} loaded, {} popped\".format(len(im_honda_val), pop_count_val_honda))"
   ]
  },
  {
   "cell_type": "code",
   "execution_count": 11,
   "id": "3a2dfd13",
   "metadata": {
    "scrolled": true
   },
   "outputs": [
    {
     "name": "stdout",
     "output_type": "stream",
     "text": [
      "\n",
      "--------------------------------\n",
      "Loading Images......\n",
      "Run : 0\n",
      "Run : 1\n",
      "Waymo (Val): 33418 loaded, 0 popped\n"
     ]
    }
   ],
   "source": [
    "print(\"\\n--------------------------------\")\n",
    "print(\"Loading Images......\")\n",
    "pop_count_val_waymo=0\n",
    "# Run twice to verify first pop worked correctly (if any)\n",
    "for a in range(2):\n",
    "    pop_val_waymo=[]\n",
    "    im_waymo_val =[]\n",
    "    print(\"Run :\", a)\n",
    "    for i in range(len(val_images_waymo)):\n",
    "        try: \n",
    "            path = val_images_waymo[i]\n",
    "            im_waymo_val.append(np.asarray(Image.open(path)))\n",
    "\n",
    "        except PIL.UnidentifiedImageError:\n",
    "            pop_val_waymo.append(i)\n",
    "            problem_file_paths.append(path)\n",
    "            print(\"To be popped :\",i)\n",
    "\n",
    "    shift = 0\n",
    "    if pop_val_waymo:\n",
    "        for j in range(len(pop_val_waymo)):\n",
    "            val_images_waymo.pop(pop_val_waymo[j] - shift)\n",
    "            shift+=1\n",
    "            pop_count_val_waymo+=1\n",
    "            \n",
    "print(\"Waymo (Val): {} loaded, {} popped\".format(len(im_waymo_val), pop_count_val_waymo))"
   ]
  },
  {
   "cell_type": "code",
   "execution_count": 12,
   "id": "edd384c3",
   "metadata": {
    "scrolled": true
   },
   "outputs": [
    {
     "name": "stdout",
     "output_type": "stream",
     "text": [
      "\n",
      "--------------------------------\n",
      "Loading Labels......\n"
     ]
    },
    {
     "name": "stderr",
     "output_type": "stream",
     "text": [
      "/mnt/c/Users/iambi/Desktop/Regressor/env/lib/python3.8/site-packages/pandas/util/_decorators.py:311: ParserWarning: Falling back to the 'python' engine because the 'c' engine does not support regex separators (separators > 1 char and different from '\\s+' are interpreted as regex); you can avoid this warning by specifying engine='python'.\n",
      "  return func(*args, **kwargs)\n"
     ]
    }
   ],
   "source": [
    "print(\"\\n--------------------------------\")\n",
    "print(\"Loading Labels......\")\n",
    "\n",
    "train_labels_honda = pd.read_csv(directory+ '/labelsHonda100k_train.csv', delimiter=\",,,\", header= None)\n",
    "train_labels_waymo = pd.read_csv(directory+ '/labelsWaymo_train.csv', delimiter=\",,,\", header= None)\n",
    "val_labels_honda = pd.read_csv(directory+ '/labelsHonda100k_val.csv', delimiter=\",,,\", header= None)\n",
    "val_labels_waymo = pd.read_csv(directory+ '/labelsWaymo_val.csv', delimiter=\",,,\", header= None)"
   ]
  },
  {
   "cell_type": "code",
   "execution_count": 13,
   "id": "d403edbb",
   "metadata": {
    "scrolled": false
   },
   "outputs": [
    {
     "name": "stdout",
     "output_type": "stream",
     "text": [
      "(100000, 2)\n",
      "(162916, 2)\n",
      "(10000, 2)\n",
      "(33418, 2)\n"
     ]
    },
    {
     "data": {
      "text/plain": [
       "<bound method NDFrame.head of                 0         1\n",
       "0           0.jpg -0.252324\n",
       "1           1.jpg -0.252324\n",
       "2           2.jpg -0.205843\n",
       "3           3.jpg -0.146082\n",
       "4           4.jpg -0.139442\n",
       "...           ...       ...\n",
       "99995  109994.jpg -0.026560\n",
       "99996  109995.jpg -0.066401\n",
       "99997  109996.jpg -0.139442\n",
       "99998  109997.jpg -0.139442\n",
       "99999  109998.jpg -0.119522\n",
       "\n",
       "[100000 rows x 2 columns]>"
      ]
     },
     "execution_count": 13,
     "metadata": {},
     "output_type": "execute_result"
    }
   ],
   "source": [
    "print(train_labels_honda.shape)\n",
    "print(train_labels_waymo.shape)\n",
    "print(val_labels_honda.shape)\n",
    "print(val_labels_waymo.shape)\n",
    "\n",
    "train_labels_honda.head\n",
    "\n",
    "# Waymo (train labels) has way more values than it should have had"
   ]
  },
  {
   "cell_type": "code",
   "execution_count": null,
   "id": "4d5f462a",
   "metadata": {},
   "outputs": [],
   "source": [
    "true_labels_honda_train = np.zeros(len(im_honda_tr))\n",
    "images_no_labels_ht = []\n",
    "# Go through all the images\n",
    "for i in range(len(im_honda_tr)):\n",
    "    # Get the name of the image that was stored (numbers may be skipped, thats why)\n",
    "    name = train_images_honda[i].split('/')[-1]\n",
    "    # Go through all the labels and find the name\n",
    "    df=train_labels_honda[train_labels_honda[0]==name]\n",
    "    \n",
    "    if df.empty: \n",
    "        #print(\"Found no label\")\n",
    "        images_no_labels_ht.append(name)\n",
    "        continue\n",
    "    else:\n",
    "        # Get the label\n",
    "        true_labels_honda_train[i] = df[1]\n",
    "        \n",
    "print(\"Total labels not found:\", len(images_no_labels_ht))"
   ]
  },
  {
   "cell_type": "code",
   "execution_count": null,
   "id": "0a8bb64c",
   "metadata": {},
   "outputs": [],
   "source": [
    "true_labels_waymo_train = np.zeros(len(im_waymo_tr))\n",
    "images_no_labels_wt = []\n",
    "# Go through all the images\n",
    "for i in range(len(im_waymo_tr)):\n",
    "    # Get the name of the image that was stored (numbers may be skipped, thats why)\n",
    "    name = train_images_waymo[i].split('/')[-1]\n",
    "    # Go through all the labels and find the name\n",
    "    df=train_labels_waymo[train_labels_waymo[0]==name]\n",
    "    \n",
    "    if df.empty: \n",
    "        #print(\"Found no label\")\n",
    "        images_no_labels_wt.append(name)\n",
    "        continue\n",
    "    else: \n",
    "        # Get the label\n",
    "        true_labels_waymo_train[i] = df[1]\n",
    "        \n",
    "print(\"Total labels not found:\", len(images_no_labels_wt))"
   ]
  },
  {
   "cell_type": "code",
   "execution_count": null,
   "id": "df27957e",
   "metadata": {},
   "outputs": [],
   "source": [
    "true_labels_honda_val = np.zeros(len(im_honda_val))\n",
    "images_no_labels_hv =[]\n",
    "# Go through all the images\n",
    "for i in range(len(im_honda_val)):\n",
    "    # Get the name of the image that was stored (numbers may be skipped, thats why)\n",
    "    name = val_images_honda[i].split('/')[-1]\n",
    "    # Go through all the labels and find the name\n",
    "    df=val_labels_honda[val_labels_honda[0]==name]\n",
    "    \n",
    "    if df.empty:\n",
    "        #print(\"Found no label\")\n",
    "        images_no_labels_hv.append(name)\n",
    "        continue\n",
    "    else:\n",
    "        true_labels_honda_val[i] = df[1]\n",
    "        \n",
    "print(\"Total labels not found:\", len(images_no_labels_hv))"
   ]
  },
  {
   "cell_type": "code",
   "execution_count": null,
   "id": "e66217d6",
   "metadata": {},
   "outputs": [],
   "source": [
    "true_labels_waymo_val = np.zeros(len(im_waymo_val))\n",
    "images_no_labels_wv=[]\n",
    "# Go through all the images\n",
    "for i in range(len(im_waymo_val)):\n",
    "    # Get the name of the image that was stored (numbers may be skipped, thats why)\n",
    "    name = val_images_waymo[i].split('/')[-1]\n",
    "    # Go through all the labels and find the name\n",
    "    df=val_labels_waymo[val_labels_waymo[0]==name]\n",
    "    \n",
    "    if df.empty: \n",
    "        #print(\"Found no label\")\n",
    "        images_no_labels_wv.append(name)\n",
    "        continue\n",
    "    else:\n",
    "        true_labels_waymo_val[i] = df[1]\n",
    "        \n",
    "print(\"Total labels not found:\", len(images_no_labels_wv))"
   ]
  },
  {
   "cell_type": "code",
   "execution_count": null,
   "id": "de40b4f1",
   "metadata": {},
   "outputs": [],
   "source": [
    "print(type(true_labels_honda_train))\n",
    "print(type(true_labels_waymo_val[0]))\n",
    "print(true_labels_honda_val[0])"
   ]
  },
  {
   "cell_type": "code",
   "execution_count": null,
   "id": "b36d6585",
   "metadata": {},
   "outputs": [],
   "source": [
    "# Remove the images with no labels (Doing just for waymo because we know that it only occured here)\n",
    "# Paths of images (that contain names) are in: train_images_waymo\n",
    "# Actual images are in: im_waymo_tr\n",
    "\n",
    "print(\"Current Length:\",len(im_waymo_tr), len(train_images_waymo))\n",
    "# Go through all images with no labels\n",
    "for i in images_no_labels_wt: \n",
    "    # Go through all the paths to locate that name\n",
    "    for j in range(len(train_images_waymo)):\n",
    "        name_in_path = train_images_waymo[j].split('/')[-1]\n",
    "        if i == name_in_path: \n",
    "        # Get the index if name found:\n",
    "            index = j\n",
    "            break\n",
    "    # Delete image in that index and also the path\n",
    "    print(\"Item deleted: {} at index: {}\".format(train_images_waymo[index], index))\n",
    "    del im_waymo_tr[index]\n",
    "    del train_images_waymo[index]\n",
    "    \n",
    "print(\"New Length:\",len(im_waymo_tr), len(train_images_waymo))"
   ]
  },
  {
   "cell_type": "code",
   "execution_count": null,
   "id": "27dac3cc",
   "metadata": {},
   "outputs": [],
   "source": [
    "# Redo waymo train, because we removed images (for which we dont want labels): \n",
    "true_labels_waymo_train = np.zeros(len(im_waymo_tr))\n",
    "images_no_labels_wt = []\n",
    "# Go through all the images\n",
    "for i in range(len(im_waymo_tr)):\n",
    "    # Get the name of the image that was stored (numbers may be skipped, thats why)\n",
    "    name = train_images_waymo[i].split('/')[-1]\n",
    "    # Go through all the labels and find the name\n",
    "    df=train_labels_waymo[train_labels_waymo[0]==name]\n",
    "    \n",
    "    if df.empty: \n",
    "        #print(\"Found no label\")\n",
    "        images_no_labels_wt.append(name)\n",
    "        continue\n",
    "    else: \n",
    "        # Get the label\n",
    "        true_labels_waymo_train[i] = df[1]\n",
    "        \n",
    "print(\"Total labels not found:\", len(images_no_labels_wt))"
   ]
  },
  {
   "cell_type": "code",
   "execution_count": null,
   "id": "d666221d",
   "metadata": {},
   "outputs": [],
   "source": [
    "# Count the zeros (the ones that were not replaced after being init to 0)\n",
    "# Why is one of each left here?\n",
    "print(\"Zeros left: {}, {}, {}, {}\".format(len(np.where( true_labels_honda_train == 0)),\n",
    "                                          len(np.where( true_labels_waymo_train == 0)),\n",
    "                                          len(np.where( true_labels_honda_val == 0)),\n",
    "                                          len(np.where( true_labels_waymo_val == 0))))\n",
    "\n",
    "train_targets_honda = np.asarray(true_labels_honda_train)\n",
    "train_targets_waymo = np.asarray(true_labels_waymo_train)\n",
    "\n",
    "val_targets_honda = np.asarray(true_labels_honda_val)\n",
    "val_targets_waymo = np.asarray(true_labels_waymo_val)\n",
    "\n",
    "print(train_targets_honda)\n",
    "print(val_targets_waymo)"
   ]
  },
  {
   "cell_type": "code",
   "execution_count": null,
   "id": "0ae86115",
   "metadata": {},
   "outputs": [],
   "source": [
    "# Images that would not load\n",
    "print(\"Files with problems:\\n\")\n",
    "for m in problem_file_paths: print(m, end=\"\\n\")\n",
    "    \n",
    "# Append lists --> arrays\n",
    "train_images_honda = np.asarray(im_honda_tr)\n",
    "train_images_waymo = np.asarray(im_waymo_tr)\n",
    "\n",
    "val_images_honda = np.asarray(im_honda_val) \n",
    "val_images_waymo = np.asarray(im_waymo_val)\n",
    "\n",
    "print(type(train_images_honda))\n",
    "print(type(train_images_honda))"
   ]
  },
  {
   "cell_type": "code",
   "execution_count": null,
   "id": "85440538",
   "metadata": {},
   "outputs": [],
   "source": [
    "# See if all images and labels sizes check out\n",
    "print(\"Secured Images Honda: train:{} , val:{}\".format(train_images_honda.shape, val_images_honda.shape))\n",
    "print(\"Secured Images Waymo: train:{} , val:{}\".format(train_images_waymo.shape, val_images_waymo.shape))\n",
    "\n",
    "print(\"Paths of Secured Honda Images: train:{} , val:{}\".format(len(train_images_honda),len(val_images_honda)))\n",
    "print(\"Paths of Secured Waymo Images: train:{} , val:{}\".format(len(train_images_waymo), len(val_images_waymo)))\n",
    "\n",
    "print(\"Secured Targets Honda: train:{} , val:{}\".format(train_targets_honda.shape, val_targets_honda.shape))\n",
    "print(\"Secured Targets Waymo: train:{} , val:{}\".format(train_targets_waymo.shape, val_targets_waymo.shape))"
   ]
  },
  {
   "cell_type": "code",
   "execution_count": null,
   "id": "7ebcfb3d",
   "metadata": {
    "scrolled": false
   },
   "outputs": [],
   "source": [
    "# Pytorch expects: [batch, channel, width, height], so reshape\n",
    "train_images_honda = np.moveaxis(train_images_honda,-1,1)\n",
    "val_images_honda = np.moveaxis(val_images_honda,-1,1)\n",
    "\n",
    "train_images_waymo = np.moveaxis(train_images_waymo,-1,1)\n",
    "val_images_waymo = np.moveaxis(val_images_waymo,-1,1)\n",
    "\n",
    "# Targets dont need reshape\n",
    "print(\"Reshaped Honda: Train {}, Val {}\".format(train_images_honda.shape, val_images_honda.shape))\n",
    "print(\"Reshaped Waymo: Train {}, Val {}\".format(train_images_waymo.shape, val_images_waymo.shape))\n",
    "\n",
    "# Release data without window\n",
    "# Save as NPZ\n",
    "np.savez('./train_honda.npz',train_images=train_images_honda, train_targets=train_targets_honda)\n",
    "np.savez('./val_honda.npz',val_images=val_images_honda, val_targets=val_targets_honda)\n",
    "\n",
    "np.savez('./train_waymo.npz',train_images=train_images_waymo, train_targets=train_targets_waymo)\n",
    "np.savez('./val_waymo.npz',val_images=val_images_waymo, val_targets=val_targets_waymo)"
   ]
  },
  {
   "cell_type": "code",
   "execution_count": null,
   "id": "aa059d2d",
   "metadata": {},
   "outputs": [],
   "source": []
  }
 ],
 "metadata": {
  "kernelspec": {
   "display_name": "Python 3 (ipykernel)",
   "language": "python",
   "name": "python3"
  },
  "language_info": {
   "codemirror_mode": {
    "name": "ipython",
    "version": 3
   },
   "file_extension": ".py",
   "mimetype": "text/x-python",
   "name": "python",
   "nbconvert_exporter": "python",
   "pygments_lexer": "ipython3",
   "version": "3.8.10"
  }
 },
 "nbformat": 4,
 "nbformat_minor": 5
}
